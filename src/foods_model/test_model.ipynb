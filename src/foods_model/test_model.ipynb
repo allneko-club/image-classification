{
 "cells": [
  {
   "cell_type": "markdown",
   "id": "7bf09fca-1923-4051-9134-18741eec4064",
   "metadata": {
    "tags": []
   },
   "source": [
    "# モデルをロードして使う"
   ]
  },
  {
   "cell_type": "markdown",
   "id": "ca6bde5d-4e0a-45ef-9448-3ce3f0e65f11",
   "metadata": {
    "tags": []
   },
   "source": [
    "## パッケージインポート"
   ]
  },
  {
   "cell_type": "code",
   "execution_count": null,
   "id": "911ac82b-6595-4ba7-a079-34ac80f2d74a",
   "metadata": {
    "tags": []
   },
   "outputs": [],
   "source": [
    "import matplotlib.pyplot as plt\n",
    "import os\n",
    "import tensorflow as tf\n",
    "from tensorflow import keras"
   ]
  },
  {
   "cell_type": "markdown",
   "id": "15df61af-4f1c-4b18-a6a9-bce867894bb5",
   "metadata": {},
   "source": [
    "## パラメーターを定義"
   ]
  },
  {
   "cell_type": "code",
   "execution_count": null,
   "id": "ede28d3a-8535-4fed-ba3a-5e6ba10c9cd1",
   "metadata": {},
   "outputs": [],
   "source": [
    "BASE_DIR =  os.getcwd()\n",
    "print(BASE_DIR)\n",
    "\n",
    "model_path = \"output\"\n",
    "class_names = ['curry', 'ramen']\n",
    "image_size = (180, 180)\n",
    "\n",
    "# 分類する画像のファイルパス\n",
    "test_file_path = f\"{BASE_DIR}/test_ramen.jpeg\""
   ]
  },
  {
   "cell_type": "markdown",
   "id": "97b7ea7b-b1ae-4cb5-bdad-6ecbb695c96e",
   "metadata": {},
   "source": [
    "## モデルをロードする"
   ]
  },
  {
   "cell_type": "code",
   "execution_count": null,
   "id": "0882473f-c730-4590-a6a3-7a36e49a0e1d",
   "metadata": {},
   "outputs": [],
   "source": [
    "model = keras.models.load_model(model_path)"
   ]
  },
  {
   "cell_type": "markdown",
   "id": "68b91c37-6e4e-44b6-9315-0f14064b4e21",
   "metadata": {},
   "source": [
    "## モデルを使って画像を分類する"
   ]
  },
  {
   "cell_type": "code",
   "execution_count": null,
   "id": "678ff70c-af7f-4678-b385-d606730c7439",
   "metadata": {
    "tags": []
   },
   "outputs": [],
   "source": [
    "img = keras.utils.load_img(test_file_path, target_size=image_size)\n",
    "plt.imshow(img)\n",
    "\n",
    "img_array = keras.utils.img_to_array(img)\n",
    "img_array = keras.ops.expand_dims(img_array, 0)  # Create batch axis\n",
    "\n",
    "predictions = model.predict(img_array)"
   ]
  },
  {
   "cell_type": "markdown",
   "id": "4e70e7b9-d820-4fed-b686-22fb630ee24b",
   "metadata": {},
   "source": [
    "## 結果を表示する"
   ]
  },
  {
   "cell_type": "code",
   "execution_count": null,
   "id": "90b84472-887e-447f-b4d9-f8fb7cc3e81e",
   "metadata": {
    "tags": []
   },
   "outputs": [],
   "source": [
    "score = float(keras.ops.sigmoid(predictions[0][0]))\n",
    "print(f\"This image is {100 * (1 - score):.2f}% cat and {100 * score:.2f}% dog.\")"
   ]
  }
 ],
 "metadata": {
  "kernelspec": {
   "display_name": "Python [conda env:base] *",
   "language": "python",
   "name": "conda-base-py"
  },
  "language_info": {
   "codemirror_mode": {
    "name": "ipython",
    "version": 3
   },
   "file_extension": ".py",
   "mimetype": "text/x-python",
   "name": "python",
   "nbconvert_exporter": "python",
   "pygments_lexer": "ipython3",
   "version": "3.12.7"
  }
 },
 "nbformat": 4,
 "nbformat_minor": 5
}
