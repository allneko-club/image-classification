{
 "cells": [
  {
   "cell_type": "markdown",
   "id": "7bf09fca-1923-4051-9134-18741eec4064",
   "metadata": {
    "tags": []
   },
   "source": [
    "# モデルをロードして使う"
   ]
  },
  {
   "cell_type": "markdown",
   "id": "ca6bde5d-4e0a-45ef-9448-3ce3f0e65f11",
   "metadata": {
    "tags": []
   },
   "source": [
    "## パッケージインポート"
   ]
  },
  {
   "cell_type": "code",
   "execution_count": 1,
   "id": "911ac82b-6595-4ba7-a079-34ac80f2d74a",
   "metadata": {
    "tags": []
   },
   "outputs": [],
   "source": [
    "import matplotlib.pyplot as plt\n",
    "import numpy as np\n",
    "import os\n",
    "import pathlib\n",
    "import PIL\n",
    "import tensorflow as tf\n",
    "\n",
    "from tensorflow import keras\n",
    "from tensorflow.keras import layers\n",
    "from tensorflow.keras.models import Sequential"
   ]
  },
  {
   "cell_type": "markdown",
   "id": "15df61af-4f1c-4b18-a6a9-bce867894bb5",
   "metadata": {},
   "source": [
    "## パラメーターを定義"
   ]
  },
  {
   "cell_type": "code",
   "execution_count": 2,
   "id": "ede28d3a-8535-4fed-ba3a-5e6ba10c9cd1",
   "metadata": {},
   "outputs": [
    {
     "name": "stdout",
     "output_type": "stream",
     "text": [
      "/Users/toshikatsu/develop/gitlab/image_classification/ai/ml/foods_model\n"
     ]
    }
   ],
   "source": [
    "BASE_DIR =  os.getcwd()\n",
    "print(BASE_DIR)\n",
    "\n",
    "saved_model_path = \"output\"\n",
    "class_names = ['daisy', 'dandelion', 'roses', 'sunflowers', 'tulips']\n",
    "batch_size = 32\n",
    "img_height = 180\n",
    "img_width = 180"
   ]
  },
  {
   "cell_type": "markdown",
   "id": "a50d7882-5759-427a-8383-134e198ba1fc",
   "metadata": {},
   "source": [
    "## 分類する画像のファイルパスを設定する"
   ]
  },
  {
   "cell_type": "code",
   "execution_count": 3,
   "id": "a429878d-03fa-4d17-8fad-3e6c94713f8e",
   "metadata": {},
   "outputs": [],
   "source": [
    "test_file_path = f\"{BASE_DIR}/test_sunflower.jpg\""
   ]
  },
  {
   "cell_type": "markdown",
   "id": "97b7ea7b-b1ae-4cb5-bdad-6ecbb695c96e",
   "metadata": {},
   "source": [
    "## モデルをロードする"
   ]
  },
  {
   "cell_type": "code",
   "execution_count": 4,
   "id": "0882473f-c730-4590-a6a3-7a36e49a0e1d",
   "metadata": {},
   "outputs": [],
   "source": [
    "model = keras.models.load_model(saved_model_path)"
   ]
  },
  {
   "cell_type": "markdown",
   "id": "68b91c37-6e4e-44b6-9315-0f14064b4e21",
   "metadata": {},
   "source": [
    "## モデルを使って画像を分類する"
   ]
  },
  {
   "cell_type": "code",
   "execution_count": 5,
   "id": "678ff70c-af7f-4678-b385-d606730c7439",
   "metadata": {
    "tags": []
   },
   "outputs": [
    {
     "name": "stdout",
     "output_type": "stream",
     "text": [
      "1/1 [==============================] - 0s 113ms/step\n"
     ]
    },
    {
     "name": "stderr",
     "output_type": "stream",
     "text": [
      "2023-10-22 10:41:13.230026: W tensorflow/tsl/platform/profile_utils/cpu_utils.cc:128] Failed to get CPU frequency: 0 Hz\n"
     ]
    }
   ],
   "source": [
    "img = tf.keras.utils.load_img(\n",
    "    test_file_path, target_size=(img_height, img_width)\n",
    ")\n",
    "img_array = tf.keras.utils.img_to_array(img)\n",
    "img_array = tf.expand_dims(img_array, 0) # Create a batch\n",
    "\n",
    "predictions = model.predict(img_array)\n",
    "score = tf.nn.softmax(predictions[0])"
   ]
  },
  {
   "cell_type": "markdown",
   "id": "4e70e7b9-d820-4fed-b686-22fb630ee24b",
   "metadata": {},
   "source": [
    "## 結果を表示する"
   ]
  },
  {
   "cell_type": "code",
   "execution_count": 6,
   "id": "90b84472-887e-447f-b4d9-f8fb7cc3e81e",
   "metadata": {
    "tags": []
   },
   "outputs": [
    {
     "name": "stdout",
     "output_type": "stream",
     "text": [
      "sunflowersに分類しました。\n",
      "100.00%の自身があります。\n"
     ]
    }
   ],
   "source": [
    "print(\"{}に分類しました。\".format(class_names[np.argmax(score)]))\n",
    "print(\"{:.2f}%の自身があります。\".format(100 * np.max(score)))"
   ]
  },
  {
   "cell_type": "code",
   "execution_count": 7,
   "id": "ee31877e-03a2-4670-a7ac-57bb97f2cc3f",
   "metadata": {
    "tags": []
   },
   "outputs": [
    {
     "name": "stdout",
     "output_type": "stream",
     "text": [
      "tf.Tensor([1.2691616e-10 7.4702052e-06 2.2613101e-05 9.9996972e-01 9.5769153e-08], shape=(5,), dtype=float32)\n"
     ]
    }
   ],
   "source": [
    "print(score)"
   ]
  },
  {
   "cell_type": "code",
   "execution_count": 10,
   "id": "32acc684-200e-41f8-8794-c300fb278203",
   "metadata": {
    "tags": []
   },
   "outputs": [
    {
     "name": "stdout",
     "output_type": "stream",
     "text": [
      "1位 スコア：99.99697208\n",
      "2位 スコア：0.00226131\n",
      "3位 スコア：0.00074702\n",
      "4位 スコア：0.00000958\n",
      "5位 スコア：0.00000001\n"
     ]
    }
   ],
   "source": [
    "numpy_score = score.numpy()\n",
    "l_score = numpy_score.tolist() # numpyはforループで使えないため、pythonのlist形式に変換\n",
    "l_rank = numpy_score.argsort()[::-1].argsort().tolist()  # scoreが高い順のランキングにする\n",
    "\n",
    "# 順位とスコアのマップを作成\n",
    "rank_score = {rank: l_score[i] for i, rank in enumerate(l_rank)}\n",
    "\n",
    "# ランキング確認\n",
    "for i in range(len(l_rank)):\n",
    "    print(f\"{i+1}位 スコア：{rank_score[i]*100:.8f}\")"
   ]
  },
  {
   "cell_type": "code",
   "execution_count": null,
   "id": "cbf9711b-b103-4486-bf00-d4e517717697",
   "metadata": {},
   "outputs": [],
   "source": []
  }
 ],
 "metadata": {
  "kernelspec": {
   "display_name": "Python 3 (ipykernel)",
   "language": "python",
   "name": "python3"
  },
  "language_info": {
   "codemirror_mode": {
    "name": "ipython",
    "version": 3
   },
   "file_extension": ".py",
   "mimetype": "text/x-python",
   "name": "python",
   "nbconvert_exporter": "python",
   "pygments_lexer": "ipython3",
   "version": "3.11.5"
  }
 },
 "nbformat": 4,
 "nbformat_minor": 5
}
